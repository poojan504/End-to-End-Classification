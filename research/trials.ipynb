{
 "cells": [
  {
   "cell_type": "code",
   "execution_count": 15,
   "metadata": {},
   "outputs": [],
   "source": [
    "import gdown"
   ]
  },
  {
   "cell_type": "code",
   "execution_count": 16,
   "metadata": {},
   "outputs": [],
   "source": [
    "url = \"https://drive.google.com/file/d/1Aws-EZ0m86d9LV8Jc2Pqe3YxuYPn68SN/view?usp=drive_link\""
   ]
  },
  {
   "cell_type": "code",
   "execution_count": 17,
   "metadata": {},
   "outputs": [
    {
     "data": {
      "text/plain": [
       "str"
      ]
     },
     "execution_count": 17,
     "metadata": {},
     "output_type": "execute_result"
    }
   ],
   "source": [
    "type(url)"
   ]
  },
  {
   "cell_type": "code",
   "execution_count": 20,
   "metadata": {},
   "outputs": [
    {
     "data": {
      "text/plain": [
       "'1Aws-EZ0m86d9LV8Jc2Pqe3YxuYPn68SN'"
      ]
     },
     "execution_count": 20,
     "metadata": {},
     "output_type": "execute_result"
    }
   ],
   "source": [
    "file_id = url.split(\"/\")[-2]\n",
    "file_id"
   ]
  },
  {
   "cell_type": "code",
   "execution_count": 22,
   "metadata": {},
   "outputs": [
    {
     "name": "stderr",
     "output_type": "stream",
     "text": [
      "Downloading...\n",
      "From (original): https://drive.google.com/uc?export=download&id=1Aws-EZ0m86d9LV8Jc2Pqe3YxuYPn68SN\n",
      "From (redirected): https://drive.google.com/uc?export=download&id=1Aws-EZ0m86d9LV8Jc2Pqe3YxuYPn68SN&confirm=t&uuid=ccfac748-633c-4c8a-aa1a-87460e2c342a\n",
      "To: c:\\Users\\PoPatel\\End-to-End-Classification\\research\\DATA.zip\n",
      "100%|██████████| 52.5M/52.5M [00:01<00:00, 32.4MB/s]\n"
     ]
    },
    {
     "data": {
      "text/plain": [
       "'DATA.zip'"
      ]
     },
     "execution_count": 22,
     "metadata": {},
     "output_type": "execute_result"
    }
   ],
   "source": [
    "prefix = 'https://drive.google.com/uc?export=download&id='\n",
    "gdown.download(prefix+file_id,\"DATA.zip\")"
   ]
  },
  {
   "cell_type": "code",
   "execution_count": null,
   "metadata": {},
   "outputs": [],
   "source": []
  }
 ],
 "metadata": {
  "language_info": {
   "name": "python"
  }
 },
 "nbformat": 4,
 "nbformat_minor": 2
}
